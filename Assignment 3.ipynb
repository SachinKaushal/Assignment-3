{
 "cells": [
  {
   "cell_type": "code",
   "execution_count": 35,
   "metadata": {},
   "outputs": [
    {
     "name": "stdout",
     "output_type": "stream",
     "text": [
      "division by zero\n"
     ]
    }
   ],
   "source": [
    "# Assignment 3\n",
    "# TASK 1\n",
    "# Quest: Write a function to compute 5/0 and use try/except to catch the exceptions\n",
    "\n",
    "def compute():\n",
    "    a=0\n",
    "    try:\n",
    "        a=5/0\n",
    "        print(a)\n",
    "    except Exception as e:\n",
    "        print(e)\n",
    "compute()"
   ]
  },
  {
   "cell_type": "code",
   "execution_count": 19,
   "metadata": {},
   "outputs": [
    {
     "name": "stdout",
     "output_type": "stream",
     "text": [
      "Americans play Baseball\n",
      "Americans play Cricket\n",
      "Americans watch Baseball\n",
      "Americans watch Cricket\n",
      "Indians play Baseball\n",
      "Indians play Cricket\n",
      "Indians watch Baseball\n",
      "Indians watch Cricket\n"
     ]
    }
   ],
   "source": [
    "# Assignment 3\n",
    "# TASK 1\n",
    "# Quest: Implement a Python program to generate all sentences where subject is in [\"Americans\",\n",
    "        #\"Indians\"] and verb is in [\"Play\", \"watch\"] and the object is in [\"Baseball\",\"cricket\"].\n",
    "\n",
    "def AddLists(x,y,z):\n",
    "    return (x + \" \" + y + \" \" + z)\n",
    "\n",
    "subjects=[\"Americans\",\"Indians\"]\n",
    "verbs=[\"play\",\"watch\"]\n",
    "objects=[\"Baseball\",\"Cricket\"]\n",
    "\n",
    "c=''\n",
    "for x in subjects:\n",
    "    for y in verbs:\n",
    "        for z in objects:\n",
    "            c=AddLists(x,y,z)\n",
    "            print(c)\n",
    "\n",
    "\n",
    "#c=list((i + \" \" + j + \" \" + k)for k in objects for j in verbs for i in subjects)\n",
    "#print(c)"
   ]
  },
  {
   "cell_type": "code",
   "execution_count": 69,
   "metadata": {},
   "outputs": [
    {
     "name": "stdout",
     "output_type": "stream",
     "text": [
      "[ 4  9 16 25]\n",
      "[2 3 4 5]\n",
      "[1 1 1 1]\n"
     ]
    }
   ],
   "source": [
    "# Assignment 3\n",
    "# TASK 2\n",
    "# Quest 1: Write a function so that the columns of the output matrix are powers of the input vector.\n",
    "# N - i - 1\n",
    "\n",
    "import numpy as np\n",
    "\n",
    "N=3\n",
    "c=[]\n",
    "x=np.array([2,3,4,5])\n",
    "for i in list(range(3)):\n",
    "    print(x**(N-i-1))\n"
   ]
  }
 ],
 "metadata": {
  "kernelspec": {
   "display_name": "Python 3",
   "language": "python",
   "name": "python3"
  },
  "language_info": {
   "codemirror_mode": {
    "name": "ipython",
    "version": 3
   },
   "file_extension": ".py",
   "mimetype": "text/x-python",
   "name": "python",
   "nbconvert_exporter": "python",
   "pygments_lexer": "ipython3",
   "version": "3.7.4"
  }
 },
 "nbformat": 4,
 "nbformat_minor": 2
}
